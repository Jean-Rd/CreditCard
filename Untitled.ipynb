{
 "cells": [
  {
   "cell_type": "code",
   "execution_count": 1,
   "metadata": {},
   "outputs": [],
   "source": [
    "import tensorflow as tf\n",
    "import pandas as pd\n",
    "import numpy as np"
   ]
  },
  {
   "cell_type": "code",
   "execution_count": 2,
   "metadata": {},
   "outputs": [],
   "source": [
    "data = pd.read_csv(\"creditcard.csv\")"
   ]
  },
  {
   "cell_type": "code",
   "execution_count": 4,
   "metadata": {},
   "outputs": [],
   "source": [
    "data.drop(['Time'], axis=1, inplace=True)"
   ]
  },
  {
   "cell_type": "code",
   "execution_count": 5,
   "metadata": {},
   "outputs": [
    {
     "data": {
      "text/html": [
       "<div>\n",
       "<style scoped>\n",
       "    .dataframe tbody tr th:only-of-type {\n",
       "        vertical-align: middle;\n",
       "    }\n",
       "\n",
       "    .dataframe tbody tr th {\n",
       "        vertical-align: top;\n",
       "    }\n",
       "\n",
       "    .dataframe thead th {\n",
       "        text-align: right;\n",
       "    }\n",
       "</style>\n",
       "<table border=\"1\" class=\"dataframe\">\n",
       "  <thead>\n",
       "    <tr style=\"text-align: right;\">\n",
       "      <th></th>\n",
       "      <th>V1</th>\n",
       "      <th>V2</th>\n",
       "      <th>V3</th>\n",
       "      <th>V4</th>\n",
       "      <th>V5</th>\n",
       "      <th>V6</th>\n",
       "      <th>V7</th>\n",
       "      <th>V8</th>\n",
       "      <th>V9</th>\n",
       "      <th>V10</th>\n",
       "      <th>...</th>\n",
       "      <th>V21</th>\n",
       "      <th>V22</th>\n",
       "      <th>V23</th>\n",
       "      <th>V24</th>\n",
       "      <th>V25</th>\n",
       "      <th>V26</th>\n",
       "      <th>V27</th>\n",
       "      <th>V28</th>\n",
       "      <th>Amount</th>\n",
       "      <th>Class</th>\n",
       "    </tr>\n",
       "  </thead>\n",
       "  <tbody>\n",
       "    <tr>\n",
       "      <th>0</th>\n",
       "      <td>-1.359807</td>\n",
       "      <td>-0.072781</td>\n",
       "      <td>2.536347</td>\n",
       "      <td>1.378155</td>\n",
       "      <td>-0.338321</td>\n",
       "      <td>0.462388</td>\n",
       "      <td>0.239599</td>\n",
       "      <td>0.098698</td>\n",
       "      <td>0.363787</td>\n",
       "      <td>0.090794</td>\n",
       "      <td>...</td>\n",
       "      <td>-0.018307</td>\n",
       "      <td>0.277838</td>\n",
       "      <td>-0.110474</td>\n",
       "      <td>0.066928</td>\n",
       "      <td>0.128539</td>\n",
       "      <td>-0.189115</td>\n",
       "      <td>0.133558</td>\n",
       "      <td>-0.021053</td>\n",
       "      <td>149.62</td>\n",
       "      <td>0</td>\n",
       "    </tr>\n",
       "    <tr>\n",
       "      <th>1</th>\n",
       "      <td>1.191857</td>\n",
       "      <td>0.266151</td>\n",
       "      <td>0.166480</td>\n",
       "      <td>0.448154</td>\n",
       "      <td>0.060018</td>\n",
       "      <td>-0.082361</td>\n",
       "      <td>-0.078803</td>\n",
       "      <td>0.085102</td>\n",
       "      <td>-0.255425</td>\n",
       "      <td>-0.166974</td>\n",
       "      <td>...</td>\n",
       "      <td>-0.225775</td>\n",
       "      <td>-0.638672</td>\n",
       "      <td>0.101288</td>\n",
       "      <td>-0.339846</td>\n",
       "      <td>0.167170</td>\n",
       "      <td>0.125895</td>\n",
       "      <td>-0.008983</td>\n",
       "      <td>0.014724</td>\n",
       "      <td>2.69</td>\n",
       "      <td>0</td>\n",
       "    </tr>\n",
       "    <tr>\n",
       "      <th>2</th>\n",
       "      <td>-1.358354</td>\n",
       "      <td>-1.340163</td>\n",
       "      <td>1.773209</td>\n",
       "      <td>0.379780</td>\n",
       "      <td>-0.503198</td>\n",
       "      <td>1.800499</td>\n",
       "      <td>0.791461</td>\n",
       "      <td>0.247676</td>\n",
       "      <td>-1.514654</td>\n",
       "      <td>0.207643</td>\n",
       "      <td>...</td>\n",
       "      <td>0.247998</td>\n",
       "      <td>0.771679</td>\n",
       "      <td>0.909412</td>\n",
       "      <td>-0.689281</td>\n",
       "      <td>-0.327642</td>\n",
       "      <td>-0.139097</td>\n",
       "      <td>-0.055353</td>\n",
       "      <td>-0.059752</td>\n",
       "      <td>378.66</td>\n",
       "      <td>0</td>\n",
       "    </tr>\n",
       "    <tr>\n",
       "      <th>3</th>\n",
       "      <td>-0.966272</td>\n",
       "      <td>-0.185226</td>\n",
       "      <td>1.792993</td>\n",
       "      <td>-0.863291</td>\n",
       "      <td>-0.010309</td>\n",
       "      <td>1.247203</td>\n",
       "      <td>0.237609</td>\n",
       "      <td>0.377436</td>\n",
       "      <td>-1.387024</td>\n",
       "      <td>-0.054952</td>\n",
       "      <td>...</td>\n",
       "      <td>-0.108300</td>\n",
       "      <td>0.005274</td>\n",
       "      <td>-0.190321</td>\n",
       "      <td>-1.175575</td>\n",
       "      <td>0.647376</td>\n",
       "      <td>-0.221929</td>\n",
       "      <td>0.062723</td>\n",
       "      <td>0.061458</td>\n",
       "      <td>123.50</td>\n",
       "      <td>0</td>\n",
       "    </tr>\n",
       "    <tr>\n",
       "      <th>4</th>\n",
       "      <td>-1.158233</td>\n",
       "      <td>0.877737</td>\n",
       "      <td>1.548718</td>\n",
       "      <td>0.403034</td>\n",
       "      <td>-0.407193</td>\n",
       "      <td>0.095921</td>\n",
       "      <td>0.592941</td>\n",
       "      <td>-0.270533</td>\n",
       "      <td>0.817739</td>\n",
       "      <td>0.753074</td>\n",
       "      <td>...</td>\n",
       "      <td>-0.009431</td>\n",
       "      <td>0.798278</td>\n",
       "      <td>-0.137458</td>\n",
       "      <td>0.141267</td>\n",
       "      <td>-0.206010</td>\n",
       "      <td>0.502292</td>\n",
       "      <td>0.219422</td>\n",
       "      <td>0.215153</td>\n",
       "      <td>69.99</td>\n",
       "      <td>0</td>\n",
       "    </tr>\n",
       "  </tbody>\n",
       "</table>\n",
       "<p>5 rows × 30 columns</p>\n",
       "</div>"
      ],
      "text/plain": [
       "         V1        V2        V3        V4        V5        V6        V7  \\\n",
       "0 -1.359807 -0.072781  2.536347  1.378155 -0.338321  0.462388  0.239599   \n",
       "1  1.191857  0.266151  0.166480  0.448154  0.060018 -0.082361 -0.078803   \n",
       "2 -1.358354 -1.340163  1.773209  0.379780 -0.503198  1.800499  0.791461   \n",
       "3 -0.966272 -0.185226  1.792993 -0.863291 -0.010309  1.247203  0.237609   \n",
       "4 -1.158233  0.877737  1.548718  0.403034 -0.407193  0.095921  0.592941   \n",
       "\n",
       "         V8        V9       V10  ...       V21       V22       V23       V24  \\\n",
       "0  0.098698  0.363787  0.090794  ... -0.018307  0.277838 -0.110474  0.066928   \n",
       "1  0.085102 -0.255425 -0.166974  ... -0.225775 -0.638672  0.101288 -0.339846   \n",
       "2  0.247676 -1.514654  0.207643  ...  0.247998  0.771679  0.909412 -0.689281   \n",
       "3  0.377436 -1.387024 -0.054952  ... -0.108300  0.005274 -0.190321 -1.175575   \n",
       "4 -0.270533  0.817739  0.753074  ... -0.009431  0.798278 -0.137458  0.141267   \n",
       "\n",
       "        V25       V26       V27       V28  Amount  Class  \n",
       "0  0.128539 -0.189115  0.133558 -0.021053  149.62      0  \n",
       "1  0.167170  0.125895 -0.008983  0.014724    2.69      0  \n",
       "2 -0.327642 -0.139097 -0.055353 -0.059752  378.66      0  \n",
       "3  0.647376 -0.221929  0.062723  0.061458  123.50      0  \n",
       "4 -0.206010  0.502292  0.219422  0.215153   69.99      0  \n",
       "\n",
       "[5 rows x 30 columns]"
      ]
     },
     "execution_count": 5,
     "metadata": {},
     "output_type": "execute_result"
    }
   ],
   "source": [
    "data.head()"
   ]
  },
  {
   "cell_type": "code",
   "execution_count": 11,
   "metadata": {},
   "outputs": [],
   "source": [
    "from sklearn.preprocessing import StandardScaler\n",
    "\n",
    "scaler = StandardScaler()"
   ]
  },
  {
   "cell_type": "code",
   "execution_count": 13,
   "metadata": {},
   "outputs": [],
   "source": [
    "data['Amount'] = scaler.fit_transform(data['Amount'].values.reshape(-1,1))"
   ]
  },
  {
   "cell_type": "code",
   "execution_count": 14,
   "metadata": {},
   "outputs": [
    {
     "data": {
      "text/html": [
       "<div>\n",
       "<style scoped>\n",
       "    .dataframe tbody tr th:only-of-type {\n",
       "        vertical-align: middle;\n",
       "    }\n",
       "\n",
       "    .dataframe tbody tr th {\n",
       "        vertical-align: top;\n",
       "    }\n",
       "\n",
       "    .dataframe thead th {\n",
       "        text-align: right;\n",
       "    }\n",
       "</style>\n",
       "<table border=\"1\" class=\"dataframe\">\n",
       "  <thead>\n",
       "    <tr style=\"text-align: right;\">\n",
       "      <th></th>\n",
       "      <th>V1</th>\n",
       "      <th>V2</th>\n",
       "      <th>V3</th>\n",
       "      <th>V4</th>\n",
       "      <th>V5</th>\n",
       "      <th>V6</th>\n",
       "      <th>V7</th>\n",
       "      <th>V8</th>\n",
       "      <th>V9</th>\n",
       "      <th>V10</th>\n",
       "      <th>...</th>\n",
       "      <th>V21</th>\n",
       "      <th>V22</th>\n",
       "      <th>V23</th>\n",
       "      <th>V24</th>\n",
       "      <th>V25</th>\n",
       "      <th>V26</th>\n",
       "      <th>V27</th>\n",
       "      <th>V28</th>\n",
       "      <th>Amount</th>\n",
       "      <th>Class</th>\n",
       "    </tr>\n",
       "  </thead>\n",
       "  <tbody>\n",
       "    <tr>\n",
       "      <th>0</th>\n",
       "      <td>-1.359807</td>\n",
       "      <td>-0.072781</td>\n",
       "      <td>2.536347</td>\n",
       "      <td>1.378155</td>\n",
       "      <td>-0.338321</td>\n",
       "      <td>0.462388</td>\n",
       "      <td>0.239599</td>\n",
       "      <td>0.098698</td>\n",
       "      <td>0.363787</td>\n",
       "      <td>0.090794</td>\n",
       "      <td>...</td>\n",
       "      <td>-0.018307</td>\n",
       "      <td>0.277838</td>\n",
       "      <td>-0.110474</td>\n",
       "      <td>0.066928</td>\n",
       "      <td>0.128539</td>\n",
       "      <td>-0.189115</td>\n",
       "      <td>0.133558</td>\n",
       "      <td>-0.021053</td>\n",
       "      <td>0.244964</td>\n",
       "      <td>0</td>\n",
       "    </tr>\n",
       "    <tr>\n",
       "      <th>1</th>\n",
       "      <td>1.191857</td>\n",
       "      <td>0.266151</td>\n",
       "      <td>0.166480</td>\n",
       "      <td>0.448154</td>\n",
       "      <td>0.060018</td>\n",
       "      <td>-0.082361</td>\n",
       "      <td>-0.078803</td>\n",
       "      <td>0.085102</td>\n",
       "      <td>-0.255425</td>\n",
       "      <td>-0.166974</td>\n",
       "      <td>...</td>\n",
       "      <td>-0.225775</td>\n",
       "      <td>-0.638672</td>\n",
       "      <td>0.101288</td>\n",
       "      <td>-0.339846</td>\n",
       "      <td>0.167170</td>\n",
       "      <td>0.125895</td>\n",
       "      <td>-0.008983</td>\n",
       "      <td>0.014724</td>\n",
       "      <td>-0.342475</td>\n",
       "      <td>0</td>\n",
       "    </tr>\n",
       "    <tr>\n",
       "      <th>2</th>\n",
       "      <td>-1.358354</td>\n",
       "      <td>-1.340163</td>\n",
       "      <td>1.773209</td>\n",
       "      <td>0.379780</td>\n",
       "      <td>-0.503198</td>\n",
       "      <td>1.800499</td>\n",
       "      <td>0.791461</td>\n",
       "      <td>0.247676</td>\n",
       "      <td>-1.514654</td>\n",
       "      <td>0.207643</td>\n",
       "      <td>...</td>\n",
       "      <td>0.247998</td>\n",
       "      <td>0.771679</td>\n",
       "      <td>0.909412</td>\n",
       "      <td>-0.689281</td>\n",
       "      <td>-0.327642</td>\n",
       "      <td>-0.139097</td>\n",
       "      <td>-0.055353</td>\n",
       "      <td>-0.059752</td>\n",
       "      <td>1.160686</td>\n",
       "      <td>0</td>\n",
       "    </tr>\n",
       "    <tr>\n",
       "      <th>3</th>\n",
       "      <td>-0.966272</td>\n",
       "      <td>-0.185226</td>\n",
       "      <td>1.792993</td>\n",
       "      <td>-0.863291</td>\n",
       "      <td>-0.010309</td>\n",
       "      <td>1.247203</td>\n",
       "      <td>0.237609</td>\n",
       "      <td>0.377436</td>\n",
       "      <td>-1.387024</td>\n",
       "      <td>-0.054952</td>\n",
       "      <td>...</td>\n",
       "      <td>-0.108300</td>\n",
       "      <td>0.005274</td>\n",
       "      <td>-0.190321</td>\n",
       "      <td>-1.175575</td>\n",
       "      <td>0.647376</td>\n",
       "      <td>-0.221929</td>\n",
       "      <td>0.062723</td>\n",
       "      <td>0.061458</td>\n",
       "      <td>0.140534</td>\n",
       "      <td>0</td>\n",
       "    </tr>\n",
       "    <tr>\n",
       "      <th>4</th>\n",
       "      <td>-1.158233</td>\n",
       "      <td>0.877737</td>\n",
       "      <td>1.548718</td>\n",
       "      <td>0.403034</td>\n",
       "      <td>-0.407193</td>\n",
       "      <td>0.095921</td>\n",
       "      <td>0.592941</td>\n",
       "      <td>-0.270533</td>\n",
       "      <td>0.817739</td>\n",
       "      <td>0.753074</td>\n",
       "      <td>...</td>\n",
       "      <td>-0.009431</td>\n",
       "      <td>0.798278</td>\n",
       "      <td>-0.137458</td>\n",
       "      <td>0.141267</td>\n",
       "      <td>-0.206010</td>\n",
       "      <td>0.502292</td>\n",
       "      <td>0.219422</td>\n",
       "      <td>0.215153</td>\n",
       "      <td>-0.073403</td>\n",
       "      <td>0</td>\n",
       "    </tr>\n",
       "  </tbody>\n",
       "</table>\n",
       "<p>5 rows × 30 columns</p>\n",
       "</div>"
      ],
      "text/plain": [
       "         V1        V2        V3        V4        V5        V6        V7  \\\n",
       "0 -1.359807 -0.072781  2.536347  1.378155 -0.338321  0.462388  0.239599   \n",
       "1  1.191857  0.266151  0.166480  0.448154  0.060018 -0.082361 -0.078803   \n",
       "2 -1.358354 -1.340163  1.773209  0.379780 -0.503198  1.800499  0.791461   \n",
       "3 -0.966272 -0.185226  1.792993 -0.863291 -0.010309  1.247203  0.237609   \n",
       "4 -1.158233  0.877737  1.548718  0.403034 -0.407193  0.095921  0.592941   \n",
       "\n",
       "         V8        V9       V10  ...       V21       V22       V23       V24  \\\n",
       "0  0.098698  0.363787  0.090794  ... -0.018307  0.277838 -0.110474  0.066928   \n",
       "1  0.085102 -0.255425 -0.166974  ... -0.225775 -0.638672  0.101288 -0.339846   \n",
       "2  0.247676 -1.514654  0.207643  ...  0.247998  0.771679  0.909412 -0.689281   \n",
       "3  0.377436 -1.387024 -0.054952  ... -0.108300  0.005274 -0.190321 -1.175575   \n",
       "4 -0.270533  0.817739  0.753074  ... -0.009431  0.798278 -0.137458  0.141267   \n",
       "\n",
       "        V25       V26       V27       V28    Amount  Class  \n",
       "0  0.128539 -0.189115  0.133558 -0.021053  0.244964      0  \n",
       "1  0.167170  0.125895 -0.008983  0.014724 -0.342475      0  \n",
       "2 -0.327642 -0.139097 -0.055353 -0.059752  1.160686      0  \n",
       "3  0.647376 -0.221929  0.062723  0.061458  0.140534      0  \n",
       "4 -0.206010  0.502292  0.219422  0.215153 -0.073403      0  \n",
       "\n",
       "[5 rows x 30 columns]"
      ]
     },
     "execution_count": 14,
     "metadata": {},
     "output_type": "execute_result"
    }
   ],
   "source": [
    "data.head()"
   ]
  },
  {
   "cell_type": "code",
   "execution_count": 15,
   "metadata": {},
   "outputs": [],
   "source": [
    "from sklearn.model_selection import train_test_split"
   ]
  },
  {
   "cell_type": "code",
   "execution_count": 19,
   "metadata": {},
   "outputs": [],
   "source": [
    "X_train, X_test = train_test_split(data, test_size=0.4, random_state=3, stratify=data['Class'])"
   ]
  },
  {
   "cell_type": "code",
   "execution_count": 23,
   "metadata": {},
   "outputs": [],
   "source": [
    "X_train = X_train[X_train['Class'] == 0]\n",
    "\n",
    "X_train = X_train.drop(['Class'], axis=1)\n",
    "\n",
    "X_train = X_train.values"
   ]
  },
  {
   "cell_type": "code",
   "execution_count": 25,
   "metadata": {},
   "outputs": [
    {
     "data": {
      "text/plain": [
       "array([[-0.60035661,  0.06885507, -1.32014987, ...,  0.30276864,\n",
       "         0.16737767, -0.02978422],\n",
       "       [ 0.03308201, -0.31266136,  0.35808781, ...,  0.12489498,\n",
       "         0.11703457,  0.18927092],\n",
       "       [-0.15499535,  0.12331113, -0.08808088, ...,  0.20388612,\n",
       "         0.19222351, -0.2932581 ],\n",
       "       ...,\n",
       "       [-2.92969336,  2.65500793, -1.39156481, ...,  0.4741436 ,\n",
       "         0.33581231, -0.34923131],\n",
       "       [-0.38517931,  1.15248142, -0.42156207, ...,  0.27403915,\n",
       "         0.26412738, -0.30437278],\n",
       "       [-0.37835464,  0.64975622,  1.00773551, ...,  0.11932431,\n",
       "         0.17316365, -0.3172866 ]])"
      ]
     },
     "execution_count": 25,
     "metadata": {},
     "output_type": "execute_result"
    }
   ],
   "source": [
    "X_train"
   ]
  },
  {
   "cell_type": "code",
   "execution_count": 32,
   "metadata": {},
   "outputs": [],
   "source": [
    "y_test = X_test['Class']\n",
    "\n",
    "X_test = X_test.drop(['Class'], axis = 1)\n",
    "X_test = X_test.values"
   ]
  },
  {
   "cell_type": "code",
   "execution_count": 26,
   "metadata": {},
   "outputs": [],
   "source": [
    "np.random.seed(5)"
   ]
  },
  {
   "cell_type": "code",
   "execution_count": 157,
   "metadata": {},
   "outputs": [],
   "source": [
    "tf.keras.backend.clear_session()"
   ]
  },
  {
   "cell_type": "code",
   "execution_count": 158,
   "metadata": {},
   "outputs": [],
   "source": [
    "# Input\n",
    "layer_input = tf.keras.Input(shape=(29,))\n",
    "\n",
    "# Encoder\n",
    "encoder = tf.keras.layers.Dense(20, activation='tanh')(layer_input)\n",
    "encoder = tf.keras.layers.Dense(15, activation='relu')(encoder)\n",
    "\n",
    "# Decoder\n",
    "decoder = tf.keras.layers.Dense(20, activation='tanh')(encoder)\n",
    "decoder = tf.keras.layers.Dense(29, activation='relu')(decoder)\n",
    "\n",
    "# Model\n",
    "auto_encoder = tf.keras.Model(inputs=layer_input, outputs=decoder)"
   ]
  },
  {
   "cell_type": "code",
   "execution_count": 172,
   "metadata": {},
   "outputs": [],
   "source": [
    "auto_encoder.compile(optimizer=tf.keras.optimizers.SGD(learning_rate=0.0001, momentum=0, nesterov=False),\n",
    "                    loss='mse', metrics='mse')"
   ]
  },
  {
   "cell_type": "code",
   "execution_count": 173,
   "metadata": {},
   "outputs": [
    {
     "name": "stdout",
     "output_type": "stream",
     "text": [
      "Epoch 1/100\n",
      "5331/5331 [==============================] - 16s 3ms/step - loss: 0.6168 - mse: 0.6168 - val_loss: 0.6595 - val_mse: 0.6595\n",
      "Epoch 2/100\n",
      "5331/5331 [==============================] - 11s 2ms/step - loss: 0.6174 - mse: 0.6174 - val_loss: 0.6590 - val_mse: 0.6590\n",
      "Epoch 3/100\n",
      "5331/5331 [==============================] - 11s 2ms/step - loss: 0.6175 - mse: 0.6175 - val_loss: 0.6587 - val_mse: 0.6587\n",
      "Epoch 4/100\n",
      "5331/5331 [==============================] - 13s 2ms/step - loss: 0.6020 - mse: 0.6020 - val_loss: 0.6585 - val_mse: 0.6585\n",
      "Epoch 5/100\n",
      "5331/5331 [==============================] - 11s 2ms/step - loss: 0.6188 - mse: 0.6188 - val_loss: 0.6584 - val_mse: 0.6584\n",
      "Epoch 6/100\n",
      "5331/5331 [==============================] - 11s 2ms/step - loss: 0.6365 - mse: 0.6365 - val_loss: 0.6583 - val_mse: 0.6583\n",
      "Epoch 7/100\n",
      "5331/5331 [==============================] - 13s 2ms/step - loss: 0.6275 - mse: 0.6275 - val_loss: 0.6582 - val_mse: 0.6582\n",
      "Epoch 8/100\n",
      "5331/5331 [==============================] - 12s 2ms/step - loss: 0.6190 - mse: 0.6190 - val_loss: 0.6581 - val_mse: 0.6581\n",
      "Epoch 9/100\n",
      "5331/5331 [==============================] - 11s 2ms/step - loss: 0.6036 - mse: 0.6036 - val_loss: 0.6580 - val_mse: 0.6580\n",
      "Epoch 10/100\n",
      "5331/5331 [==============================] - 11s 2ms/step - loss: 0.6142 - mse: 0.6142 - val_loss: 0.6579 - val_mse: 0.6579\n",
      "Epoch 11/100\n",
      "5331/5331 [==============================] - 12s 2ms/step - loss: 0.6414 - mse: 0.6414 - val_loss: 0.6578 - val_mse: 0.6578\n",
      "Epoch 12/100\n",
      "5331/5331 [==============================] - 14s 3ms/step - loss: 0.6211 - mse: 0.6211 - val_loss: 0.6577 - val_mse: 0.6577\n",
      "Epoch 13/100\n",
      "5331/5331 [==============================] - 11s 2ms/step - loss: 0.6152 - mse: 0.6152 - val_loss: 0.6576 - val_mse: 0.6576\n",
      "Epoch 14/100\n",
      "5331/5331 [==============================] - 11s 2ms/step - loss: 0.6151 - mse: 0.6151 - val_loss: 0.6576 - val_mse: 0.6576\n",
      "Epoch 15/100\n",
      "5331/5331 [==============================] - 11s 2ms/step - loss: 0.6309 - mse: 0.6309 - val_loss: 0.6575 - val_mse: 0.6575\n",
      "Epoch 16/100\n",
      "5331/5331 [==============================] - 11s 2ms/step - loss: 0.6313 - mse: 0.6313 - val_loss: 0.6574 - val_mse: 0.6574\n",
      "Epoch 17/100\n",
      "5331/5331 [==============================] - 11s 2ms/step - loss: 0.6316 - mse: 0.6316 - val_loss: 0.6574 - val_mse: 0.6574\n",
      "Epoch 18/100\n",
      "5331/5331 [==============================] - 11s 2ms/step - loss: 0.6114 - mse: 0.6114 - val_loss: 0.6573 - val_mse: 0.6573\n",
      "Epoch 19/100\n",
      "5331/5331 [==============================] - 14s 3ms/step - loss: 0.6150 - mse: 0.6150 - val_loss: 0.6572 - val_mse: 0.6572\n",
      "Epoch 20/100\n",
      "5331/5331 [==============================] - 11s 2ms/step - loss: 0.6315 - mse: 0.6315 - val_loss: 0.6572 - val_mse: 0.6572\n",
      "Epoch 21/100\n",
      "5331/5331 [==============================] - 11s 2ms/step - loss: 0.6088 - mse: 0.6088 - val_loss: 0.6571 - val_mse: 0.6571\n",
      "Epoch 22/100\n",
      "5331/5331 [==============================] - 12s 2ms/step - loss: 0.6243 - mse: 0.6243 - val_loss: 0.6571 - val_mse: 0.6571\n",
      "Epoch 23/100\n",
      "5331/5331 [==============================] - 14s 3ms/step - loss: 0.6160 - mse: 0.6160 - val_loss: 0.6570 - val_mse: 0.6570\n",
      "Epoch 24/100\n",
      "5331/5331 [==============================] - 10s 2ms/step - loss: 0.6168 - mse: 0.6168 - val_loss: 0.6569 - val_mse: 0.6569\n",
      "Epoch 25/100\n",
      "5331/5331 [==============================] - 10s 2ms/step - loss: 0.6119 - mse: 0.6119 - val_loss: 0.6569 - val_mse: 0.6569\n",
      "Epoch 26/100\n",
      "5331/5331 [==============================] - 11s 2ms/step - loss: 0.6206 - mse: 0.6206 - val_loss: 0.6568 - val_mse: 0.6568\n",
      "Epoch 27/100\n",
      "5331/5331 [==============================] - 10s 2ms/step - loss: 0.6122 - mse: 0.6122 - val_loss: 0.6568 - val_mse: 0.6568\n",
      "Epoch 28/100\n",
      "5331/5331 [==============================] - 10s 2ms/step - loss: 0.6241 - mse: 0.6241 - val_loss: 0.6567 - val_mse: 0.6567\n",
      "Epoch 29/100\n",
      "5331/5331 [==============================] - 11s 2ms/step - loss: 0.6054 - mse: 0.6054 - val_loss: 0.6567 - val_mse: 0.6567\n",
      "Epoch 30/100\n",
      "5331/5331 [==============================] - 10s 2ms/step - loss: 0.6319 - mse: 0.6319 - val_loss: 0.6566 - val_mse: 0.6566\n",
      "Epoch 31/100\n",
      "5331/5331 [==============================] - 10s 2ms/step - loss: 0.6254 - mse: 0.6254 - val_loss: 0.6566 - val_mse: 0.6566\n",
      "Epoch 32/100\n",
      "5331/5331 [==============================] - 10s 2ms/step - loss: 0.6205 - mse: 0.6205 - val_loss: 0.6565 - val_mse: 0.6565\n",
      "Epoch 33/100\n",
      "5331/5331 [==============================] - 10s 2ms/step - loss: 0.6201 - mse: 0.6201 - val_loss: 0.6565 - val_mse: 0.6565\n",
      "Epoch 34/100\n",
      "5331/5331 [==============================] - 11s 2ms/step - loss: 0.6383 - mse: 0.6383 - val_loss: 0.6564 - val_mse: 0.6564\n",
      "Epoch 35/100\n",
      "5331/5331 [==============================] - 10s 2ms/step - loss: 0.6241 - mse: 0.6241 - val_loss: 0.6564 - val_mse: 0.6564\n",
      "Epoch 36/100\n",
      "5331/5331 [==============================] - 13s 2ms/step - loss: 0.6100 - mse: 0.6100 - val_loss: 0.6563 - val_mse: 0.6563\n",
      "Epoch 37/100\n",
      "5331/5331 [==============================] - 9s 2ms/step - loss: 0.6285 - mse: 0.6285 - val_loss: 0.6563 - val_mse: 0.6563\n",
      "Epoch 38/100\n",
      "5331/5331 [==============================] - 11s 2ms/step - loss: 0.6160 - mse: 0.6160 - val_loss: 0.6563 - val_mse: 0.6563\n",
      "Epoch 39/100\n",
      "5331/5331 [==============================] - 10s 2ms/step - loss: 0.6120 - mse: 0.6120 - val_loss: 0.6562 - val_mse: 0.6562\n",
      "Epoch 40/100\n",
      "5331/5331 [==============================] - 10s 2ms/step - loss: 0.6187 - mse: 0.6187 - val_loss: 0.6562 - val_mse: 0.6562\n",
      "Epoch 41/100\n",
      "5331/5331 [==============================] - 10s 2ms/step - loss: 0.6278 - mse: 0.6278 - val_loss: 0.6561 - val_mse: 0.6561\n",
      "Epoch 42/100\n",
      "5331/5331 [==============================] - 9s 2ms/step - loss: 0.6284 - mse: 0.6284 - val_loss: 0.6561 - val_mse: 0.6561\n",
      "Epoch 43/100\n",
      "5331/5331 [==============================] - 10s 2ms/step - loss: 0.6096 - mse: 0.6096 - val_loss: 0.6560 - val_mse: 0.6560\n",
      "Epoch 44/100\n",
      "5331/5331 [==============================] - 9s 2ms/step - loss: 0.5996 - mse: 0.5996 - val_loss: 0.6560 - val_mse: 0.6560\n",
      "Epoch 45/100\n",
      "5331/5331 [==============================] - 9s 2ms/step - loss: 0.6131 - mse: 0.6131 - val_loss: 0.6559 - val_mse: 0.6559\n",
      "Epoch 46/100\n",
      "5331/5331 [==============================] - 10s 2ms/step - loss: 0.6307 - mse: 0.6307 - val_loss: 0.6559 - val_mse: 0.6559\n",
      "Epoch 47/100\n",
      "5331/5331 [==============================] - 9s 2ms/step - loss: 0.6140 - mse: 0.6140 - val_loss: 0.6559 - val_mse: 0.6559\n",
      "Epoch 48/100\n",
      "5331/5331 [==============================] - 9s 2ms/step - loss: 0.6311 - mse: 0.6311 - val_loss: 0.6558 - val_mse: 0.6558\n",
      "Epoch 49/100\n",
      "5331/5331 [==============================] - 9s 2ms/step - loss: 0.6350 - mse: 0.6350 - val_loss: 0.6558 - val_mse: 0.6558\n",
      "Epoch 50/100\n",
      "5331/5331 [==============================] - 10s 2ms/step - loss: 0.6155 - mse: 0.6155 - val_loss: 0.6557 - val_mse: 0.6557\n",
      "Epoch 51/100\n",
      "5331/5331 [==============================] - 9s 2ms/step - loss: 0.6225 - mse: 0.6225 - val_loss: 0.6557 - val_mse: 0.6557\n",
      "Epoch 52/100\n",
      "5331/5331 [==============================] - 10s 2ms/step - loss: 0.6235 - mse: 0.6235 - val_loss: 0.6556 - val_mse: 0.6556\n",
      "Epoch 53/100\n",
      "5331/5331 [==============================] - 9s 2ms/step - loss: 0.6165 - mse: 0.6165 - val_loss: 0.6556 - val_mse: 0.6556\n",
      "Epoch 54/100\n",
      "5331/5331 [==============================] - 9s 2ms/step - loss: 0.6380 - mse: 0.6380 - val_loss: 0.6556 - val_mse: 0.6556\n",
      "Epoch 55/100\n",
      "5331/5331 [==============================] - 9s 2ms/step - loss: 0.6132 - mse: 0.6132 - val_loss: 0.6555 - val_mse: 0.6555\n",
      "Epoch 56/100\n",
      "5331/5331 [==============================] - 9s 2ms/step - loss: 0.6176 - mse: 0.6176 - val_loss: 0.6555 - val_mse: 0.6555\n",
      "Epoch 57/100\n",
      "5331/5331 [==============================] - 9s 2ms/step - loss: 0.6336 - mse: 0.6336 - val_loss: 0.6554 - val_mse: 0.6554\n",
      "Epoch 58/100\n",
      "5331/5331 [==============================] - 9s 2ms/step - loss: 0.6082 - mse: 0.6082 - val_loss: 0.6554 - val_mse: 0.6554\n",
      "Epoch 59/100\n",
      "5331/5331 [==============================] - 10s 2ms/step - loss: 0.6075 - mse: 0.6075 - val_loss: 0.6554 - val_mse: 0.6554\n",
      "Epoch 60/100\n",
      "5331/5331 [==============================] - 10s 2ms/step - loss: 0.6396 - mse: 0.6396 - val_loss: 0.6553 - val_mse: 0.6553\n",
      "Epoch 61/100\n",
      "5331/5331 [==============================] - 9s 2ms/step - loss: 0.6186 - mse: 0.6186 - val_loss: 0.6553 - val_mse: 0.6553\n",
      "Epoch 62/100\n",
      "5331/5331 [==============================] - 9s 2ms/step - loss: 0.6162 - mse: 0.6162 - val_loss: 0.6552 - val_mse: 0.6552\n",
      "Epoch 63/100\n",
      "5331/5331 [==============================] - 10s 2ms/step - loss: 0.6287 - mse: 0.6287 - val_loss: 0.6552 - val_mse: 0.6552\n",
      "Epoch 64/100\n",
      "5331/5331 [==============================] - 9s 2ms/step - loss: 0.6061 - mse: 0.6061 - val_loss: 0.6552 - val_mse: 0.6552\n",
      "Epoch 65/100\n",
      "5331/5331 [==============================] - 9s 2ms/step - loss: 0.6043 - mse: 0.6043 - val_loss: 0.6551 - val_mse: 0.6551\n",
      "Epoch 66/100\n",
      "5331/5331 [==============================] - 9s 2ms/step - loss: 0.6017 - mse: 0.6017 - val_loss: 0.6551 - val_mse: 0.6551\n",
      "Epoch 67/100\n",
      "5331/5331 [==============================] - 9s 2ms/step - loss: 0.6064 - mse: 0.6064 - val_loss: 0.6551 - val_mse: 0.6551\n",
      "Epoch 68/100\n",
      "5331/5331 [==============================] - 9s 2ms/step - loss: 0.6303 - mse: 0.6303 - val_loss: 0.6550 - val_mse: 0.6550\n",
      "Epoch 69/100\n",
      "5331/5331 [==============================] - 9s 2ms/step - loss: 0.6127 - mse: 0.6127 - val_loss: 0.6550 - val_mse: 0.6550\n",
      "Epoch 70/100\n",
      "5331/5331 [==============================] - 9s 2ms/step - loss: 0.6223 - mse: 0.6223 - val_loss: 0.6549 - val_mse: 0.6549\n",
      "Epoch 71/100\n",
      "5331/5331 [==============================] - 9s 2ms/step - loss: 0.6197 - mse: 0.6197 - val_loss: 0.6549 - val_mse: 0.6549\n",
      "Epoch 72/100\n",
      "5331/5331 [==============================] - 9s 2ms/step - loss: 0.6147 - mse: 0.6147 - val_loss: 0.6549 - val_mse: 0.6549\n",
      "Epoch 73/100\n",
      "5331/5331 [==============================] - 9s 2ms/step - loss: 0.6074 - mse: 0.6074 - val_loss: 0.6548 - val_mse: 0.6548\n",
      "Epoch 74/100\n",
      "5331/5331 [==============================] - 9s 2ms/step - loss: 0.6183 - mse: 0.6183 - val_loss: 0.6548 - val_mse: 0.6548\n",
      "Epoch 75/100\n",
      "5331/5331 [==============================] - 9s 2ms/step - loss: 0.6185 - mse: 0.6185 - val_loss: 0.6547 - val_mse: 0.6547\n",
      "Epoch 76/100\n",
      "5331/5331 [==============================] - 11s 2ms/step - loss: 0.6169 - mse: 0.6169 - val_loss: 0.6547 - val_mse: 0.6547\n",
      "Epoch 77/100\n",
      "5331/5331 [==============================] - 10s 2ms/step - loss: 0.6089 - mse: 0.6089 - val_loss: 0.6547 - val_mse: 0.6547\n",
      "Epoch 78/100\n",
      "5331/5331 [==============================] - 9s 2ms/step - loss: 0.6211 - mse: 0.6211 - val_loss: 0.6546 - val_mse: 0.6546\n",
      "Epoch 79/100\n",
      "5331/5331 [==============================] - 9s 2ms/step - loss: 0.6075 - mse: 0.6075 - val_loss: 0.6546 - val_mse: 0.6546\n",
      "Epoch 80/100\n",
      "5331/5331 [==============================] - 9s 2ms/step - loss: 0.6321 - mse: 0.6321 - val_loss: 0.6546 - val_mse: 0.6546\n",
      "Epoch 81/100\n",
      "5331/5331 [==============================] - 9s 2ms/step - loss: 0.6075 - mse: 0.6075 - val_loss: 0.6545 - val_mse: 0.6545\n",
      "Epoch 82/100\n",
      "5331/5331 [==============================] - 9s 2ms/step - loss: 0.6128 - mse: 0.6128 - val_loss: 0.6545 - val_mse: 0.6545\n",
      "Epoch 83/100\n",
      "5331/5331 [==============================] - 9s 2ms/step - loss: 0.6149 - mse: 0.6149 - val_loss: 0.6545 - val_mse: 0.6545\n",
      "Epoch 84/100\n",
      "5331/5331 [==============================] - 9s 2ms/step - loss: 0.6297 - mse: 0.6297 - val_loss: 0.6544 - val_mse: 0.6544\n",
      "Epoch 85/100\n",
      "5331/5331 [==============================] - 9s 2ms/step - loss: 0.6176 - mse: 0.6176 - val_loss: 0.6544 - val_mse: 0.6544\n",
      "Epoch 86/100\n",
      "5331/5331 [==============================] - 10s 2ms/step - loss: 0.6108 - mse: 0.6108 - val_loss: 0.6544 - val_mse: 0.6544\n",
      "Epoch 87/100\n",
      "5331/5331 [==============================] - 9s 2ms/step - loss: 0.6121 - mse: 0.6121 - val_loss: 0.6543 - val_mse: 0.6543\n",
      "Epoch 88/100\n",
      "5331/5331 [==============================] - 9s 2ms/step - loss: 0.6131 - mse: 0.6131 - val_loss: 0.6543 - val_mse: 0.6543\n",
      "Epoch 89/100\n",
      "5331/5331 [==============================] - 11s 2ms/step - loss: 0.6104 - mse: 0.6104 - val_loss: 0.6542 - val_mse: 0.6542\n",
      "Epoch 90/100\n",
      "5331/5331 [==============================] - 9s 2ms/step - loss: 0.6015 - mse: 0.6015 - val_loss: 0.6542 - val_mse: 0.6542\n",
      "Epoch 91/100\n",
      "5331/5331 [==============================] - 10s 2ms/step - loss: 0.6110 - mse: 0.6110 - val_loss: 0.6542 - val_mse: 0.6542\n",
      "Epoch 92/100\n",
      "5331/5331 [==============================] - 9s 2ms/step - loss: 0.6175 - mse: 0.6175 - val_loss: 0.6541 - val_mse: 0.6541\n",
      "Epoch 93/100\n",
      "5331/5331 [==============================] - 9s 2ms/step - loss: 0.6098 - mse: 0.6098 - val_loss: 0.6541 - val_mse: 0.6541\n",
      "Epoch 94/100\n",
      "5331/5331 [==============================] - 9s 2ms/step - loss: 0.6358 - mse: 0.6358 - val_loss: 0.6541 - val_mse: 0.6541\n",
      "Epoch 95/100\n",
      "5331/5331 [==============================] - 9s 2ms/step - loss: 0.6064 - mse: 0.6064 - val_loss: 0.6540 - val_mse: 0.6540\n",
      "Epoch 96/100\n",
      "5331/5331 [==============================] - 10s 2ms/step - loss: 0.6358 - mse: 0.6358 - val_loss: 0.6540 - val_mse: 0.6540\n",
      "Epoch 97/100\n",
      "5331/5331 [==============================] - 9s 2ms/step - loss: 0.6127 - mse: 0.6127 - val_loss: 0.6540 - val_mse: 0.6540\n",
      "Epoch 98/100\n",
      "5331/5331 [==============================] - 9s 2ms/step - loss: 0.6159 - mse: 0.6159 - val_loss: 0.6539 - val_mse: 0.6539\n",
      "Epoch 99/100\n",
      "5331/5331 [==============================] - 10s 2ms/step - loss: 0.6161 - mse: 0.6161 - val_loss: 0.6539 - val_mse: 0.6539\n",
      "Epoch 100/100\n",
      "5331/5331 [==============================] - 9s 2ms/step - loss: 0.6033 - mse: 0.6033 - val_loss: 0.6539 - val_mse: 0.6539\n"
     ]
    }
   ],
   "source": [
    "history = auto_encoder.fit(X_train, X_train, batch_size=32, epochs=100, shuffle=True, validation_data=(X_test, X_test), verbose=1)"
   ]
  },
  {
   "cell_type": "code",
   "execution_count": 186,
   "metadata": {},
   "outputs": [],
   "source": [
    "pred = auto_encoder.predict(X_test)"
   ]
  },
  {
   "cell_type": "code",
   "execution_count": 187,
   "metadata": {},
   "outputs": [],
   "source": [
    "target = np.mean(np.power(X_test - pred, 2), axis=1) # axis 1 rows"
   ]
  },
  {
   "cell_type": "code",
   "execution_count": 188,
   "metadata": {},
   "outputs": [],
   "source": [
    "from  sklearn.metrics import confusion_matrix, precision_recall_curve\n",
    "import matplotlib.pyplot as plt"
   ]
  },
  {
   "cell_type": "code",
   "execution_count": 189,
   "metadata": {},
   "outputs": [],
   "source": [
    "precision, recall, threshold = precision_recall_curve(y_test, target)"
   ]
  },
  {
   "cell_type": "code",
   "execution_count": 190,
   "metadata": {},
   "outputs": [
    {
     "data": {
      "text/plain": [
       "<matplotlib.legend.Legend at 0x20823cb9100>"
      ]
     },
     "execution_count": 190,
     "metadata": {},
     "output_type": "execute_result"
    },
    {
     "data": {
      "image/png": "[encoded data removed]",
      "text/plain": [
       "<Figure size 720x400 with 1 Axes>"
      ]
     },
     "metadata": {
      "needs_background": "light"
     },
     "output_type": "display_data"
    }
   ],
   "source": [
    "fig = plt.figure(figsize=(9,5), dpi=80)\n",
    "ax = fig.gca()\n",
    "\n",
    "ax.plot(threshold[:], precision[1:], label='precision', linewidth=3)\n",
    "ax.plot(threshold[:], recall[1:], label='recall', linewidth=2)\n",
    "ax.vlines(0.3, ymin=0, ymax=1, linestyles='solid', label='umbral', color='green')\n",
    "\n",
    "ax.set_title('precision recall curve')\n",
    "ax.set_xlabel('threshold')\n",
    "ax.set_ylabel('precision/recall')\n",
    "\n",
    "ax.legend()"
   ]
  },
  {
   "cell_type": "code",
   "execution_count": 191,
   "metadata": {},
   "outputs": [
    {
     "data": {
      "text/plain": [
       "array([  0.7767399 ,   0.77685126,   0.77685172, ..., 211.45813985,\n",
       "       415.35635498, 423.81977621])"
      ]
     },
     "execution_count": 191,
     "metadata": {},
     "output_type": "execute_result"
    }
   ],
   "source": [
    "threshold[90000:]"
   ]
  },
  {
   "cell_type": "code",
   "execution_count": 197,
   "metadata": {},
   "outputs": [],
   "source": [
    "fraud = [1 if i > 0.5 else 0 for i in target]"
   ]
  },
  {
   "cell_type": "code",
   "execution_count": 198,
   "metadata": {},
   "outputs": [],
   "source": [
    "import seaborn as sns"
   ]
  },
  {
   "cell_type": "code",
   "execution_count": 199,
   "metadata": {},
   "outputs": [
    {
     "data": {
      "text/plain": [
       "Text(0.5, 1.0, 'confusion matrix')"
      ]
     },
     "execution_count": 199,
     "metadata": {},
     "output_type": "execute_result"
    },
    {
     "data": {
      "image/png": "[encoded data removed]",
      "text/plain": [
       "<Figure size 960x640 with 2 Axes>"
      ]
     },
     "metadata": {
      "needs_background": "light"
     },
     "output_type": "display_data"
    }
   ],
   "source": [
    "cm = confusion_matrix(y_test, fraud)\n",
    "\n",
    "fig = plt.figure(figsize=(12,8), dpi=80)\n",
    "ax = fig.gca()\n",
    "\n",
    "sns.heatmap(cm, annot=True, cmap='bwr', cbar=True, ax=ax)\n",
    "ax.set_title('confusion matrix')"
   ]
  },
  {
   "cell_type": "code",
   "execution_count": 200,
   "metadata": {},
   "outputs": [
    {
     "data": {
      "text/plain": [
       "0    82315\n",
       "1    31608\n",
       "dtype: int64"
      ]
     },
     "execution_count": 200,
     "metadata": {},
     "output_type": "execute_result"
    }
   ],
   "source": [
    "pd.Series(fraud).value_counts()"
   ]
  },
  {
   "cell_type": "code",
   "execution_count": 201,
   "metadata": {},
   "outputs": [
    {
     "data": {
      "text/plain": [
       "0    113726\n",
       "1       197\n",
       "Name: Class, dtype: int64"
      ]
     },
     "execution_count": 201,
     "metadata": {},
     "output_type": "execute_result"
    }
   ],
   "source": [
    "y_test.value_counts()"
   ]
  },
  {
   "cell_type": "code",
   "execution_count": 126,
   "metadata": {},
   "outputs": [
    {
     "data": {
      "text/plain": [
       "0    284315\n",
       "1       492\n",
       "Name: Class, dtype: int64"
      ]
     },
     "execution_count": 126,
     "metadata": {},
     "output_type": "execute_result"
    }
   ],
   "source": [
    "data['Class'].value_counts()"
   ]
  }
 ],
 "metadata": {
  "kernelspec": {
   "display_name": "Python 3",
   "language": "python",
   "name": "python3"
  },
  "language_info": {
   "codemirror_mode": {
    "name": "ipython",
    "version": 3
   },
   "file_extension": ".py",
   "mimetype": "text/x-python",
   "name": "python",
   "nbconvert_exporter": "python",
   "pygments_lexer": "ipython3",
   "version": "3.8.5"
  }
 },
 "nbformat": 4,
 "nbformat_minor": 4
}
